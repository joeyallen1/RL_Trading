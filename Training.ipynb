{
 "cells": [
  {
   "cell_type": "code",
   "execution_count": 5,
   "metadata": {},
   "outputs": [],
   "source": [
    "import gymnasium as gym\n",
    "from gymnasium.spaces import Discrete\n",
    "from gymnasium.spaces import Box\n",
    "import numpy as np"
   ]
  },
  {
   "cell_type": "code",
   "execution_count": 7,
   "metadata": {},
   "outputs": [
    {
     "ename": "IndentationError",
     "evalue": "expected an indented block (1802361510.py, line 44)",
     "output_type": "error",
     "traceback": [
      "\u001b[1;36m  Cell \u001b[1;32mIn[7], line 44\u001b[1;36m\u001b[0m\n\u001b[1;33m    def close(self):\u001b[0m\n\u001b[1;37m    ^\u001b[0m\n\u001b[1;31mIndentationError\u001b[0m\u001b[1;31m:\u001b[0m expected an indented block\n"
     ]
    }
   ],
   "source": [
    "class TradingEnv(gym.Env):\n",
    "\n",
    "    def __init__(self, data, budget=10000):\n",
    "        self.budget = budget\n",
    "        self.row_num = 0\n",
    "        self.asset_allocation = 0.0\n",
    "        self.prev_asset_allocatoin = 0.0\n",
    "        self.data = data\n",
    "    \n",
    "        # action space: Sell 25%, sell 10%, no change, buy 10%, buy 25%\n",
    "        self.action_space = Discrete(5)\n",
    "\n",
    "        # observation space: Close, Volume, SMA Ratio, RSI, Bandwidth, Asset Allocation\n",
    "        self.observation_space = Box(low=np.array([0.0, 0.0, 0.0, 0.0, 0.0, 0.0]),\n",
    "            high=np.array([np.inf, np.inf, np.inf, 100.0, np.inf, 1.0]))\n",
    "\n",
    "\n",
    "    def _get_obs(self):\n",
    "        obs = np.array(self.data.iloc[self.row_num, :])\n",
    "        obs = np.append(obs, self.asset_allocation)\n",
    "        return np.array(self.data.iloc[self.row_num, :])\n",
    "\n",
    "    def _get_info(self):\n",
    "        pass\n",
    "        # return portfolio value at this point\n",
    "\n",
    "    def reset(self, seed):\n",
    "        super().reset(seed=seed)\n",
    "        self.row_num = np.random.randint(0, len(self.data))\n",
    "        rand = np.random.rand()\n",
    "        if rand > 0.7:\n",
    "            self.asset_allocation = 0.0\n",
    "        else:\n",
    "            self.asset_allocation = np.random.rand()\n",
    "        \n",
    "        return self._get_obs(), self._get_info()\n",
    "\n",
    "    def step(self, action):\n",
    "        self.row_num += 1\n",
    "        self.asset_allocation = self._action_to_allocation(action)\n",
    "        obs = self._get_obs()\n",
    "        rew = self._get_rew()\n",
    "        info = self._get_info()\n",
    "        #return obs, rew, terminated, truncated, info\n",
    "    \n",
    "    def _action_to_allocation(self, action):\n",
    "        allocation_change = 0.0\n",
    "        if action == 0: allocation_change = -.25\n",
    "        elif action == 1: allocation_change = -.1\n",
    "        elif action == 2: allocation_change = 0.0\n",
    "        elif action == 3: allocation_change = .1\n",
    "        else: allocation_change = 0.25\n",
    "        return min(1.0, self.asset_allocation + allocation_change)\n",
    "\n",
    "\n",
    "    def close(self):\n",
    "        pass"
   ]
  },
  {
   "cell_type": "code",
   "execution_count": null,
   "metadata": {},
   "outputs": [],
   "source": []
  }
 ],
 "metadata": {
  "kernelspec": {
   "display_name": "rl_agent",
   "language": "python",
   "name": "python3"
  },
  "language_info": {
   "codemirror_mode": {
    "name": "ipython",
    "version": 3
   },
   "file_extension": ".py",
   "mimetype": "text/x-python",
   "name": "python",
   "nbconvert_exporter": "python",
   "pygments_lexer": "ipython3",
   "version": "3.9.20"
  }
 },
 "nbformat": 4,
 "nbformat_minor": 2
}
