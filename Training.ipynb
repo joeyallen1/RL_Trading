{
 "cells": [
  {
   "cell_type": "code",
   "execution_count": 5,
   "metadata": {},
   "outputs": [],
   "source": [
    "import gymnasium as gym\n",
    "from gymnasium.spaces import Discrete\n",
    "from gymnasium.spaces import Box\n",
    "import numpy as np"
   ]
  },
  {
   "cell_type": "code",
   "execution_count": null,
   "metadata": {},
   "outputs": [],
   "source": [
    "class TradingEnv(gym.Env):\n",
    "\n",
    "    def __init__(self, budget=10000):\n",
    "        self.budget = budget\n",
    "        self.action_space = Discrete(5)\n",
    "\n",
    "        # observation space: Close, Volume, SMA Ratio, RSI, Bandwidth, Asset Allocation\n",
    "        self.observation_space = Box(low=np.array([0.0, 0.0, 0.0, 0.0, 0.0, 0.0]),\n",
    "            high=np.array([np.inf, np.inf, np.inf, 100.0, np.inf, 1.0]))\n",
    "\n",
    "        self.row_num = 0\n",
    "        pass\n",
    "\n",
    "    def _get_info(self):\n",
    "        pass\n",
    "        # return portfolio value at this point\n",
    "\n",
    "    def reset(self, seed):\n",
    "        # super().reset(seed=seed)\n",
    "        pass\n",
    "        # return obs, info\n",
    "\n",
    "    def step(self, action):\n",
    "        pass\n",
    "        #return obs, rew, terminated, truncated, info\n",
    "\n",
    "    def close(self):\n",
    "        pass\n",
    "\n",
    "\n"
   ]
  }
 ],
 "metadata": {
  "kernelspec": {
   "display_name": "rl_agent",
   "language": "python",
   "name": "python3"
  },
  "language_info": {
   "codemirror_mode": {
    "name": "ipython",
    "version": 3
   },
   "file_extension": ".py",
   "mimetype": "text/x-python",
   "name": "python",
   "nbconvert_exporter": "python",
   "pygments_lexer": "ipython3",
   "version": "3.9.20"
  }
 },
 "nbformat": 4,
 "nbformat_minor": 2
}
