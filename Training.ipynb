{
 "cells": [
  {
   "cell_type": "code",
   "execution_count": 5,
   "metadata": {},
   "outputs": [],
   "source": [
    "import gymnasium as gym\n",
    "from gymnasium.spaces import Discrete\n",
    "from gymnasium.spaces import Box\n",
    "import numpy as np"
   ]
  },
  {
   "cell_type": "code",
   "execution_count": 6,
   "metadata": {},
   "outputs": [
    {
     "ename": "IndentationError",
     "evalue": "expected an indented block (1076730244.py, line 16)",
     "output_type": "error",
     "traceback": [
      "\u001b[1;36m  Cell \u001b[1;32mIn[6], line 16\u001b[1;36m\u001b[0m\n\u001b[1;33m    def _get_info(self):\u001b[0m\n\u001b[1;37m    ^\u001b[0m\n\u001b[1;31mIndentationError\u001b[0m\u001b[1;31m:\u001b[0m expected an indented block\n"
     ]
    }
   ],
   "source": [
    "class TradingEnv(gym.Env):\n",
    "\n",
    "    def __init__(self, data, normalized_data, budget=10000):\n",
    "        self.budget = budget\n",
    "        self.row_num = 0\n",
    "        self.asset_allocation = 0.0\n",
    "        self.data = data\n",
    "        self.normalized_data = normalized_data\n",
    "    \n",
    "        self.action_space = Discrete(5)\n",
    "\n",
    "        # observation space: Close, Volume, SMA Ratio, RSI, Bandwidth, Asset Allocation\n",
    "        self.observation_space = Box(low=np.array([0.0, 0.0, 0.0, 0.0, 0.0, 0.0]),\n",
    "            high=np.array([np.inf, np.inf, np.inf, 100.0, np.inf, 1.0]))\n",
    "\n",
    "\n",
    "    def _get_obs(self):\n",
    "        pass\n",
    "\n",
    "    def _get_info(self):\n",
    "        pass\n",
    "        # return portfolio value at this point\n",
    "\n",
    "    def reset(self, seed):\n",
    "        super().reset(seed=seed)\n",
    "        self.row_num = np.random.randint(0, int(0.8 * len(self.data)) - 2)\n",
    "        # return obs, info\n",
    "\n",
    "    def step(self, action):\n",
    "        pass\n",
    "        #return obs, rew, terminated, truncated, info\n",
    "\n",
    "    def close(self):\n",
    "        pass\n",
    "\n",
    "\n"
   ]
  },
  {
   "cell_type": "code",
   "execution_count": null,
   "metadata": {},
   "outputs": [],
   "source": []
  }
 ],
 "metadata": {
  "kernelspec": {
   "display_name": "rl_agent",
   "language": "python",
   "name": "python3"
  },
  "language_info": {
   "codemirror_mode": {
    "name": "ipython",
    "version": 3
   },
   "file_extension": ".py",
   "mimetype": "text/x-python",
   "name": "python",
   "nbconvert_exporter": "python",
   "pygments_lexer": "ipython3",
   "version": "3.9.20"
  }
 },
 "nbformat": 4,
 "nbformat_minor": 2
}
